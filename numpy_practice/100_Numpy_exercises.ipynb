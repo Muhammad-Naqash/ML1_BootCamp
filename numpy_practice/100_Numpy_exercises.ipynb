{
 "cells": [
  {
   "cell_type": "markdown",
   "id": "6293cc50",
   "metadata": {},
   "source": [
    "# 100 numpy exercises\n",
    "\n",
    "This is a collection of exercises that have been collected in the numpy mailing list, on stack overflow\n",
    "and in the numpy documentation. The goal of this collection is to offer a quick reference for both old\n",
    "and new users but also to provide a set of exercises for those who teach."
   ]
  },
  {
   "cell_type": "markdown",
   "id": "a167c052",
   "metadata": {},
   "source": [
    "File automatically generated. See the documentation to update questions/answers/hints programmatically."
   ]
  },
  {
   "cell_type": "markdown",
   "id": "3c1222ff",
   "metadata": {},
   "source": [
    "#### 1. Import the numpy package under the name `np` "
   ]
  },
  {
   "cell_type": "code",
   "execution_count": 1,
   "id": "f52e6a0b",
   "metadata": {},
   "outputs": [],
   "source": [
    "import numpy as np"
   ]
  },
  {
   "cell_type": "markdown",
   "id": "9d9f4753",
   "metadata": {},
   "source": [
    "#### 2. Print the numpy version and the configuration"
   ]
  },
  {
   "cell_type": "code",
   "execution_count": 4,
   "id": "b7fa5fa1",
   "metadata": {},
   "outputs": [
    {
     "name": "stdout",
     "output_type": "stream",
     "text": [
      "NumPy version: 1.26.4\n",
      "\n",
      "NumPy configuration:\n",
      "Build Dependencies:\n",
      "  blas:\n",
      "    detection method: pkgconfig\n",
      "    found: true\n",
      "    include directory: C:/Users/asc/anaconda3/Library/include\n",
      "    lib directory: C:/Users/asc/anaconda3/Library/lib\n",
      "    name: mkl-sdl\n",
      "    openblas configuration: unknown\n",
      "    pc file directory: C:\\b\\abs_c1ywpu18ar\\croot\\numpy_and_numpy_base_1708638681471\\_h_env\\Library\\lib\\pkgconfig\n",
      "    version: '2023.1'\n",
      "  lapack:\n",
      "    detection method: internal\n",
      "    found: true\n",
      "    include directory: unknown\n",
      "    lib directory: unknown\n",
      "    name: dep1868282989520\n",
      "    openblas configuration: unknown\n",
      "    pc file directory: unknown\n",
      "    version: 1.26.4\n",
      "Compilers:\n",
      "  c:\n",
      "    commands: cl.exe\n",
      "    linker: link\n",
      "    name: msvc\n",
      "    version: 19.29.30154\n",
      "  c++:\n",
      "    commands: cl.exe\n",
      "    linker: link\n",
      "    name: msvc\n",
      "    version: 19.29.30154\n",
      "  cython:\n",
      "    commands: cython\n",
      "    linker: cython\n",
      "    name: cython\n",
      "    version: 3.0.8\n",
      "Machine Information:\n",
      "  build:\n",
      "    cpu: x86_64\n",
      "    endian: little\n",
      "    family: x86_64\n",
      "    system: windows\n",
      "  host:\n",
      "    cpu: x86_64\n",
      "    endian: little\n",
      "    family: x86_64\n",
      "    system: windows\n",
      "Python Information:\n",
      "  path: C:\\b\\abs_c1ywpu18ar\\croot\\numpy_and_numpy_base_1708638681471\\_h_env\\python.exe\n",
      "  version: '3.11'\n",
      "SIMD Extensions:\n",
      "  baseline:\n",
      "  - SSE\n",
      "  - SSE2\n",
      "  - SSE3\n",
      "  found:\n",
      "  - SSSE3\n",
      "  - SSE41\n",
      "  - POPCNT\n",
      "  - SSE42\n",
      "  - AVX\n",
      "  - F16C\n",
      "  - FMA3\n",
      "  - AVX2\n",
      "  - AVX512F\n",
      "  - AVX512CD\n",
      "  - AVX512_SKX\n",
      "  - AVX512_CLX\n",
      "  - AVX512_CNL\n",
      "  - AVX512_ICL\n",
      "\n"
     ]
    }
   ],
   "source": [
    "import numpy as np\n",
    "print(\"NumPy version:\", np.__version__)\n",
    "print(\"\\nNumPy configuration:\")\n",
    "np.show_config()\n"
   ]
  },
  {
   "cell_type": "markdown",
   "id": "3e4c23c6",
   "metadata": {},
   "source": [
    "#### 3. Create a null vector of size 10"
   ]
  },
  {
   "cell_type": "code",
   "execution_count": 6,
   "id": "083c5c46",
   "metadata": {},
   "outputs": [
    {
     "name": "stdout",
     "output_type": "stream",
     "text": [
      "[1. 1. 1. 1. 1. 1. 1. 1. 1. 1.]\n"
     ]
    }
   ],
   "source": [
    "#import numpy as np\n",
    "null_vector = np.zeros(10)\n",
    "print(null_vector)\n"
   ]
  },
  {
   "cell_type": "markdown",
   "id": "c38bbe82",
   "metadata": {},
   "source": [
    "#### 4. How to find the memory size of any array "
   ]
  },
  {
   "cell_type": "code",
   "execution_count": 9,
   "id": "02b04021",
   "metadata": {},
   "outputs": [
    {
     "name": "stdout",
     "output_type": "stream",
     "text": [
      "Memory size of the array using .nbytes: 24\n"
     ]
    }
   ],
   "source": [
    "array_example = np.array([[1, 2, 3], [4, 5, 6]])\n",
    "print(\"Memory size of the array using .nbytes:\", array_example.nbytes)\n"
   ]
  },
  {
   "cell_type": "code",
   "execution_count": 10,
   "id": "d9cdcdcf-57e0-4c2f-a21d-d0e05a32d87a",
   "metadata": {},
   "outputs": [
    {
     "name": "stdout",
     "output_type": "stream",
     "text": [
      "Memory size of the array using .size and .itemsize: 24\n"
     ]
    }
   ],
   "source": [
    "array_example = np.array([[1, 2, 3], [4, 5, 6]])\n",
    "print(\"Memory size of the array using .size and .itemsize:\", array_example.size * array_example.itemsize)\n"
   ]
  },
  {
   "cell_type": "markdown",
   "id": "67f893d4",
   "metadata": {},
   "source": [
    "#### 5. How to get the documentation of the numpy add function from the command line?"
   ]
  },
  {
   "cell_type": "code",
   "execution_count": 13,
   "id": "40e6b70d",
   "metadata": {},
   "outputs": [
    {
     "name": "stdout",
     "output_type": "stream",
     "text": [
      " info(object=None, maxwidth=76, output=None, toplevel='numpy')\n",
      "\n",
      "Get help information for an array, function, class, or module.\n",
      "\n",
      "Parameters\n",
      "----------\n",
      "object : object or str, optional\n",
      "    Input object or name to get information about. If `object` is\n",
      "    an `ndarray` instance, information about the array is printed.\n",
      "    If `object` is a numpy object, its docstring is given. If it is\n",
      "    a string, available modules are searched for matching objects.\n",
      "    If None, information about `info` itself is returned.\n",
      "maxwidth : int, optional\n",
      "    Printing width.\n",
      "output : file like object, optional\n",
      "    File like object that the output is written to, default is\n",
      "    ``None``, in which case ``sys.stdout`` will be used.\n",
      "    The object has to be opened in 'w' or 'a' mode.\n",
      "toplevel : str, optional\n",
      "    Start search at this level.\n",
      "\n",
      "See Also\n",
      "--------\n",
      "source, lookfor\n",
      "\n",
      "Notes\n",
      "-----\n",
      "When used interactively with an object, ``np.info(obj)`` is equivalent\n",
      "to ``help(obj)`` on the Python prompt or ``obj?`` on the IPython\n",
      "prompt.\n",
      "\n",
      "Examples\n",
      "--------\n",
      ">>> np.info(np.polyval) # doctest: +SKIP\n",
      "   polyval(p, x)\n",
      "     Evaluate the polynomial p at x.\n",
      "     ...\n",
      "\n",
      "When using a string for `object` it is possible to get multiple results.\n",
      "\n",
      ">>> np.info('fft') # doctest: +SKIP\n",
      "     *** Found in numpy ***\n",
      "Core FFT routines\n",
      "...\n",
      "     *** Found in numpy.fft ***\n",
      " fft(a, n=None, axis=-1)\n",
      "...\n",
      "     *** Repeat reference found in numpy.fft.fftpack ***\n",
      "     *** Total of 3 references found. ***\n",
      "\n",
      "When the argument is an array, information about the array is printed.\n",
      "\n",
      ">>> a = np.array([[1 + 2j, 3, -4], [-5j, 6, 0]], dtype=np.complex64)\n",
      ">>> np.info(a)\n",
      "class:  ndarray\n",
      "shape:  (2, 3)\n",
      "strides:  (24, 8)\n",
      "itemsize:  8\n",
      "aligned:  True\n",
      "contiguous:  True\n",
      "fortran:  False\n",
      "data pointer: 0x562b6e0d2860  # may vary\n",
      "byteorder:  little\n",
      "byteswap:  False\n",
      "type: complex64\n"
     ]
    }
   ],
   "source": [
    "np.info()\n"
   ]
  },
  {
   "cell_type": "markdown",
   "id": "e0c739c6",
   "metadata": {},
   "source": [
    "#### 6. Create a null vector of size 10 but the fifth value which is 1"
   ]
  },
  {
   "cell_type": "code",
   "execution_count": 14,
   "id": "bcceacf7",
   "metadata": {},
   "outputs": [
    {
     "name": "stdout",
     "output_type": "stream",
     "text": [
      "[0. 0. 0. 0. 1. 0. 0. 0. 0. 0.]\n"
     ]
    }
   ],
   "source": [
    "null_vector = np.zeros(10)\n",
    "null_vector[4] = 1\n",
    "print(null_vector)\n"
   ]
  },
  {
   "cell_type": "markdown",
   "id": "fbebedab",
   "metadata": {},
   "source": [
    "#### 7. Create a vector with values ranging from 10 to 49"
   ]
  },
  {
   "cell_type": "code",
   "execution_count": 15,
   "id": "3d117d54",
   "metadata": {},
   "outputs": [
    {
     "name": "stdout",
     "output_type": "stream",
     "text": [
      "[10 11 12 13 14 15 16 17 18 19 20 21 22 23 24 25 26 27 28 29 30 31 32 33\n",
      " 34 35 36 37 38 39 40 41 42 43 44 45 46 47 48 49]\n"
     ]
    }
   ],
   "source": [
    "vector = np.arange(10, 50)\n",
    "print(vector)\n"
   ]
  },
  {
   "cell_type": "markdown",
   "id": "ad0bff02",
   "metadata": {},
   "source": [
    "#### 8. Reverse a vector (first element becomes last)"
   ]
  },
  {
   "cell_type": "code",
   "execution_count": 18,
   "id": "22d23470",
   "metadata": {},
   "outputs": [
    {
     "name": "stdout",
     "output_type": "stream",
     "text": [
      "Original Vector: [10 11 12 13 14 15 16 17 18 19 20 21 22 23 24 25 26 27 28 29 30 31 32 33\n",
      " 34 35 36 37 38 39 40 41 42 43 44 45 46 47 48 49]\n",
      "reversed_vector: [49 48 47 46 45 44 43 42 41 40 39 38 37 36 35 34 33 32 31 30 29 28 27 26\n",
      " 25 24 23 22 21 20 19 18 17 16 15 14 13 12 11 10]\n"
     ]
    }
   ],
   "source": [
    "\n",
    "vector = np.arange(10, 50)\n",
    "reversed_vector = np.flip(vector)\n",
    "print(\"Original Vector:\",vector)\n",
    "print(\"reversed_vector:\",reversed_vector)\n"
   ]
  },
  {
   "cell_type": "markdown",
   "id": "9f59d7e1",
   "metadata": {},
   "source": [
    "#### 9. Create a 3x3 matrix with values ranging from 0 to 8"
   ]
  },
  {
   "cell_type": "code",
   "execution_count": 23,
   "id": "7449e82d",
   "metadata": {},
   "outputs": [
    {
     "name": "stdout",
     "output_type": "stream",
     "text": [
      "[[0 1 2]\n",
      " [3 4 5]\n",
      " [6 7 8]]\n"
     ]
    }
   ],
   "source": [
    "import numpy as np\n",
    "matrix = np.arange(0, 9).reshape(3, 3)\n",
    "print(matrix)\n"
   ]
  },
  {
   "cell_type": "markdown",
   "id": "f374c4cf",
   "metadata": {},
   "source": [
    "#### 10. Find indices of non-zero elements from [1,2,0,0,4,0] "
   ]
  },
  {
   "cell_type": "code",
   "execution_count": 27,
   "id": "1a84bed8",
   "metadata": {},
   "outputs": [
    {
     "name": "stdout",
     "output_type": "stream",
     "text": [
      "[0 1 4]\n"
     ]
    }
   ],
   "source": [
    "arr = np.array([1, 2, 0, 0, 4, 0])\n",
    "non_zero_indices = np.nonzero(arr)[0]\n",
    "print(non_zero_indices)\n",
    "import numpy as np\n",
    "\n"
   ]
  },
  {
   "cell_type": "markdown",
   "id": "9c4707f5",
   "metadata": {},
   "source": [
    "#### 11. Create a 3x3 identity matrix"
   ]
  },
  {
   "cell_type": "code",
   "execution_count": 32,
   "id": "29dc1fd3",
   "metadata": {},
   "outputs": [
    {
     "name": "stdout",
     "output_type": "stream",
     "text": [
      "[[1. 1. 1.]\n",
      " [1. 1. 1.]\n",
      " [1. 1. 1.]]\n"
     ]
    }
   ],
   "source": [
    "\n",
    "array_3x3 = np.ones((3,3))\n",
    "print(array_3x3)"
   ]
  },
  {
   "cell_type": "markdown",
   "id": "3bac294a",
   "metadata": {},
   "source": [
    "#### 12. Create a 3x3x3 array with random values"
   ]
  },
  {
   "cell_type": "code",
   "execution_count": 36,
   "id": "eadfae67",
   "metadata": {},
   "outputs": [
    {
     "name": "stdout",
     "output_type": "stream",
     "text": [
      "[[[0.63895254 0.37570535 0.9202053 ]\n",
      "  [0.11490671 0.39933383 0.46233343]\n",
      "  [0.18957439 0.7558866  0.0357208 ]]\n",
      "\n",
      " [[0.99447561 0.72446239 0.58018339]\n",
      "  [0.2000492  0.19494703 0.51041919]\n",
      "  [0.42798528 0.98934329 0.9559518 ]]\n",
      "\n",
      " [[0.9380419  0.26044416 0.85987853]\n",
      "  [0.66333864 0.73949337 0.90758011]\n",
      "  [0.68290348 0.3452321  0.99451861]]]\n"
     ]
    }
   ],
   "source": [
    "array_3d = np.random.rand(3, 3, 3)\n",
    "print(array_3d)\n"
   ]
  },
  {
   "cell_type": "markdown",
   "id": "466c2989",
   "metadata": {},
   "source": [
    "#### 13. Create a 10x10 array with random values and find the minimum and maximum values"
   ]
  },
  {
   "cell_type": "code",
   "execution_count": 43,
   "id": "9a74dbfc",
   "metadata": {},
   "outputs": [
    {
     "name": "stdout",
     "output_type": "stream",
     "text": [
      "Array: [[0.13882457 0.82525291 0.88385282 0.53169136 0.65698207 0.32831541\n",
      "  0.73863939 0.17833454 0.66632504 0.35148217]\n",
      " [0.10655429 0.55664105 0.97136754 0.42349223 0.2357977  0.01769389\n",
      "  0.17995357 0.76758101 0.57363099 0.3286598 ]\n",
      " [0.62994549 0.22878787 0.38881842 0.78992262 0.69800348 0.61848183\n",
      "  0.80293786 0.95992103 0.74015871 0.02654597]\n",
      " [0.07192812 0.57975137 0.05803108 0.63878019 0.4527083  0.56974355\n",
      "  0.30986322 0.33680097 0.44969517 0.50504963]\n",
      " [0.80565915 0.48542732 0.93022468 0.65930262 0.98704971 0.36604031\n",
      "  0.32681224 0.06848028 0.89237329 0.55880637]\n",
      " [0.65623524 0.61279431 0.91740593 0.08763374 0.84003788 0.59013225\n",
      "  0.92075812 0.36874108 0.73654501 0.91113386]\n",
      " [0.70014691 0.52374141 0.98766703 0.4529644  0.81651468 0.301814\n",
      "  0.43898766 0.00644577 0.56400869 0.95312211]\n",
      " [0.0869929  0.29280114 0.78259972 0.72247843 0.08158282 0.78066464\n",
      "  0.41834314 0.21447972 0.99258596 0.86825585]\n",
      " [0.01275807 0.43079678 0.97329229 0.61212457 0.21468601 0.85221433\n",
      "  0.018232   0.2271526  0.36703956 0.61790794]\n",
      " [0.82650643 0.81066373 0.24596989 0.7611826  0.31349606 0.18714903\n",
      "  0.49253659 0.14406657 0.37737272 0.31131629]]\n",
      "Min: 0.008408548189509868\n",
      "Max: 0.9800975242143615\n"
     ]
    }
   ],
   "source": [
    "\n",
    "array = np.random.rand(10,10)\n",
    "print(\"Array:\",array)\n",
    "v=np.min(array_3d)\n",
    "print(\"Min:\",v)\n",
    "v=np.max(array_3d)\n",
    "print(\"Max:\",v)"
   ]
  },
  {
   "cell_type": "markdown",
   "id": "53a8edb2",
   "metadata": {},
   "source": [
    "#### 14. Create a random vector of size 30 and find the mean value"
   ]
  },
  {
   "cell_type": "code",
   "execution_count": 48,
   "id": "6691530b",
   "metadata": {},
   "outputs": [
    {
     "name": "stdout",
     "output_type": "stream",
     "text": [
      "[0.16583274 0.42719287 0.36990173 0.38410228 0.16182959 0.55646643\n",
      " 0.07054681 0.38860046 0.89122349 0.08252096 0.59337582 0.11766142\n",
      " 0.91841324 0.14538805 0.3154947  0.494819   0.43826901 0.18062768\n",
      " 0.48876517 0.57180576 0.17196348 0.73018714 0.58683426 0.74607696\n",
      " 0.5502544  0.08645622 0.46905201 0.01705081 0.47804851 0.98913824]\n"
     ]
    }
   ],
   "source": [
    "random_vector = np.random.rand(30)\n",
    "mean_value = np.mean(random_vector)\n",
    "print(\"Random Vector:\")\n",
    "print(random_vector)\n",
    "print(\"\\nMean Value:\")\n",
    "print(mean_value)\n"
   ]
  },
  {
   "cell_type": "markdown",
   "id": "cbaad31c",
   "metadata": {},
   "source": [
    "#### 15. Create a 2d array with 1 on the border and 0 inside"
   ]
  },
  {
   "cell_type": "code",
   "execution_count": 49,
   "id": "ad8308e3",
   "metadata": {},
   "outputs": [
    {
     "name": "stdout",
     "output_type": "stream",
     "text": [
      "[[1. 1. 1. 1. 1. 1. 1. 1. 1. 1.]\n",
      " [1. 0. 0. 0. 0. 0. 0. 0. 0. 1.]\n",
      " [1. 0. 0. 0. 0. 0. 0. 0. 0. 1.]\n",
      " [1. 0. 0. 0. 0. 0. 0. 0. 0. 1.]\n",
      " [1. 0. 0. 0. 0. 0. 0. 0. 0. 1.]\n",
      " [1. 0. 0. 0. 0. 0. 0. 0. 0. 1.]\n",
      " [1. 0. 0. 0. 0. 0. 0. 0. 0. 1.]\n",
      " [1. 0. 0. 0. 0. 0. 0. 0. 0. 1.]\n",
      " [1. 0. 0. 0. 0. 0. 0. 0. 0. 1.]\n",
      " [1. 1. 1. 1. 1. 1. 1. 1. 1. 1.]]\n"
     ]
    }
   ],
   "source": [
    "rows = 10\n",
    "cols = 10\n",
    "array_2d = np.zeros((rows, cols))\n",
    "array_2d[0, :] = 1  # Top row\n",
    "array_2d[:, 0] = 1  # Left column\n",
    "array_2d[-1, :] = 1  # Bottom row\n",
    "array_2d[:, -1] = 1  # Right column\n",
    "\n",
    "print(array_2d)\n"
   ]
  },
  {
   "cell_type": "markdown",
   "id": "4d746367",
   "metadata": {},
   "source": [
    "```\n",
    "[[1. 1. 1. 1. 1. 1. 1. 1. 1. 1.]\n",
    " [1. 0. 0. 0. 0. 0. 0. 0. 0. 1.]\n",
    " [1. 0. 0. 0. 0. 0. 0. 0. 0. 1.]\n",
    " [1. 0. 0. 0. 0. 0. 0. 0. 0. 1.]\n",
    " [1. 0. 0. 0. 0. 0. 0. 0. 0. 1.]\n",
    " [1. 0. 0. 0. 0. 0. 0. 0. 0. 1.]\n",
    " [1. 0. 0. 0. 0. 0. 0. 0. 0. 1.]\n",
    " [1. 0. 0. 0. 0. 0. 0. 0. 0. 1.]\n",
    " [1. 0. 0. 0. 0. 0. 0. 0. 0. 1.]\n",
    " [1. 1. 1. 1. 1. 1. 1. 1. 1. 1.]]\n",
    "```"
   ]
  },
  {
   "cell_type": "markdown",
   "id": "c5ecc267",
   "metadata": {},
   "source": [
    "#### 16. How to add a border (filled with 0's) around an existing array?"
   ]
  },
  {
   "cell_type": "code",
   "execution_count": null,
   "id": "9d5c78c4",
   "metadata": {},
   "outputs": [],
   "source": []
  },
  {
   "cell_type": "markdown",
   "id": "ef909b72",
   "metadata": {},
   "source": [
    "#### 17. What is the result of the following expression?\n",
    "```python\n",
    "0 * np.nan\n",
    "np.nan == np.nan\n",
    "np.inf > np.nan\n",
    "np.nan - np.nan\n",
    "np.nan in set([np.nan])\n",
    "0.3 == 3 * 0.1\n",
    "```"
   ]
  },
  {
   "cell_type": "code",
   "execution_count": null,
   "id": "3b4985f2",
   "metadata": {},
   "outputs": [],
   "source": []
  },
  {
   "cell_type": "markdown",
   "id": "502738ac",
   "metadata": {},
   "source": [
    "#### 18. Create a 5x5 matrix with values 1,2,3,4 just below the diagonal"
   ]
  },
  {
   "cell_type": "code",
   "execution_count": null,
   "id": "faed6e2b",
   "metadata": {},
   "outputs": [],
   "source": []
  },
  {
   "cell_type": "markdown",
   "id": "a65da660",
   "metadata": {},
   "source": [
    "#### 19. Create a 8x8 matrix and fill it with a checkerboard pattern"
   ]
  },
  {
   "cell_type": "code",
   "execution_count": null,
   "id": "ed150400",
   "metadata": {},
   "outputs": [],
   "source": []
  },
  {
   "cell_type": "markdown",
   "id": "9f7f9c49",
   "metadata": {},
   "source": [
    "#### 20. Consider a (6,7,8) shape array, what is the index (x,y,z) of the 100th element? "
   ]
  },
  {
   "cell_type": "code",
   "execution_count": null,
   "id": "3782b5a9",
   "metadata": {},
   "outputs": [],
   "source": []
  },
  {
   "cell_type": "markdown",
   "id": "66bfda35",
   "metadata": {},
   "source": [
    "#### 21. Create a checkerboard 8x8 matrix using the tile function"
   ]
  },
  {
   "cell_type": "code",
   "execution_count": null,
   "id": "4c07477c",
   "metadata": {},
   "outputs": [],
   "source": []
  },
  {
   "cell_type": "markdown",
   "id": "d5bcfc08",
   "metadata": {},
   "source": [
    "#### 22. Normalize a 5x5 random matrix"
   ]
  },
  {
   "cell_type": "code",
   "execution_count": null,
   "id": "cea6c993",
   "metadata": {},
   "outputs": [],
   "source": []
  },
  {
   "cell_type": "markdown",
   "id": "f9a0911e",
   "metadata": {},
   "source": [
    "#### 23. Create a custom dtype that describes a color as four unsigned bytes (RGBA)"
   ]
  },
  {
   "cell_type": "code",
   "execution_count": null,
   "id": "d165044b",
   "metadata": {},
   "outputs": [],
   "source": []
  },
  {
   "cell_type": "code",
   "execution_count": null,
   "id": "750a3e68",
   "metadata": {},
   "outputs": [],
   "source": []
  },
  {
   "cell_type": "markdown",
   "id": "654805b1",
   "metadata": {},
   "source": [
    "#### 24. Multiply a 5x3 matrix by a 3x2 matrix (real matrix product)"
   ]
  },
  {
   "cell_type": "code",
   "execution_count": null,
   "id": "6a42619f",
   "metadata": {},
   "outputs": [],
   "source": []
  },
  {
   "cell_type": "markdown",
   "id": "994c25df",
   "metadata": {},
   "source": [
    "#### 25. Given a 1D array, negate all elements which are between 3 and 8, in place."
   ]
  },
  {
   "cell_type": "code",
   "execution_count": null,
   "id": "e4b39c03",
   "metadata": {},
   "outputs": [],
   "source": []
  },
  {
   "cell_type": "markdown",
   "id": "b7d15d1a",
   "metadata": {},
   "source": [
    "#### 26. What is the output of the following script?\n",
    "```python\n",
    "# Author: Jake VanderPlas\n",
    "\n",
    "print(sum(range(5),-1))\n",
    "from numpy import *\n",
    "print(sum(range(5),-1))\n",
    "```"
   ]
  },
  {
   "cell_type": "code",
   "execution_count": 53,
   "id": "4c95bc3f",
   "metadata": {},
   "outputs": [
    {
     "name": "stdout",
     "output_type": "stream",
     "text": [
      "8 6\n"
     ]
    }
   ],
   "source": [
    "\n",
    "\"\"\"(a,b)=(b,a)\n",
    "print(a,b)\"\"\"\n",
    "a=a^b\n",
    "b=a^b\n",
    "a=b^a\n",
    "print(a,b)\n"
   ]
  },
  {
   "cell_type": "markdown",
   "id": "a34f0d08",
   "metadata": {},
   "source": [
    "#### 27. Consider an integer vector Z, which of these expressions are legal?\n",
    "```python\n",
    "Z**Z\n",
    "2 << Z >> 2\n",
    "Z <- Z\n",
    "1j*Z\n",
    "Z/1/1\n",
    "Z<Z>Z\n",
    "```"
   ]
  },
  {
   "cell_type": "code",
   "execution_count": null,
   "id": "564658fc",
   "metadata": {},
   "outputs": [],
   "source": []
  },
  {
   "cell_type": "markdown",
   "id": "c34e94bf",
   "metadata": {},
   "source": [
    "#### 28. What are the result of the following expressions?\n",
    "```python\n",
    "np.array(0) / np.array(0)\n",
    "np.array(0) // np.array(0)\n",
    "np.array([np.nan]).astype(int).astype(float)\n",
    "```"
   ]
  },
  {
   "cell_type": "code",
   "execution_count": null,
   "id": "56663562",
   "metadata": {},
   "outputs": [],
   "source": []
  },
  {
   "cell_type": "markdown",
   "id": "546f5e7b",
   "metadata": {},
   "source": [
    "#### 29. How to round away from zero a float array ?"
   ]
  },
  {
   "cell_type": "code",
   "execution_count": null,
   "id": "f725a6d2",
   "metadata": {},
   "outputs": [],
   "source": []
  },
  {
   "cell_type": "markdown",
   "id": "eadca856",
   "metadata": {},
   "source": [
    "#### 30. How to find common values between two arrays?"
   ]
  },
  {
   "cell_type": "code",
   "execution_count": null,
   "id": "e0270b5b",
   "metadata": {},
   "outputs": [],
   "source": []
  },
  {
   "cell_type": "markdown",
   "id": "ca16ca22",
   "metadata": {},
   "source": [
    "#### 31. How to ignore all numpy warnings (not recommended)?"
   ]
  },
  {
   "cell_type": "code",
   "execution_count": null,
   "id": "7d7208ef",
   "metadata": {},
   "outputs": [],
   "source": []
  },
  {
   "cell_type": "markdown",
   "id": "c7871d0d",
   "metadata": {},
   "source": [
    "#### 32. Is the following expressions true?\n",
    "```python\n",
    "np.sqrt(-1) == np.emath.sqrt(-1)\n",
    "```"
   ]
  },
  {
   "cell_type": "code",
   "execution_count": null,
   "id": "acc3701a",
   "metadata": {},
   "outputs": [],
   "source": []
  },
  {
   "cell_type": "markdown",
   "id": "e0433e30",
   "metadata": {},
   "source": [
    "#### 33. How to get the dates of yesterday, today and tomorrow?"
   ]
  },
  {
   "cell_type": "code",
   "execution_count": null,
   "id": "9c4d2152",
   "metadata": {},
   "outputs": [],
   "source": []
  },
  {
   "cell_type": "markdown",
   "id": "9f52a2ef",
   "metadata": {},
   "source": [
    "#### 34. How to get all the dates corresponding to the month of July 2016?"
   ]
  },
  {
   "cell_type": "code",
   "execution_count": null,
   "id": "d6c34dec",
   "metadata": {},
   "outputs": [],
   "source": []
  },
  {
   "cell_type": "markdown",
   "id": "4a64e059",
   "metadata": {},
   "source": [
    "#### 35. How to compute ((A+B)*(-A/2)) in place (without copy)?"
   ]
  },
  {
   "cell_type": "code",
   "execution_count": null,
   "id": "49267f60",
   "metadata": {},
   "outputs": [],
   "source": []
  },
  {
   "cell_type": "markdown",
   "id": "8a98c2a8",
   "metadata": {},
   "source": [
    "#### 36. Extract the integer part of a random array of positive numbers using 4 different methods"
   ]
  },
  {
   "cell_type": "code",
   "execution_count": null,
   "id": "368130b3",
   "metadata": {},
   "outputs": [],
   "source": []
  },
  {
   "cell_type": "markdown",
   "id": "5a2e3d85",
   "metadata": {},
   "source": [
    "#### 37. Create a 5x5 matrix with row values ranging from 0 to 4"
   ]
  },
  {
   "cell_type": "code",
   "execution_count": null,
   "id": "1d974e8f",
   "metadata": {},
   "outputs": [],
   "source": []
  },
  {
   "cell_type": "markdown",
   "id": "9720e2d5",
   "metadata": {},
   "source": [
    "#### 38. Consider a generator function that generates 10 integers and use it to build an array"
   ]
  },
  {
   "cell_type": "code",
   "execution_count": null,
   "id": "e5dd8fc9",
   "metadata": {},
   "outputs": [],
   "source": []
  },
  {
   "cell_type": "markdown",
   "id": "c6f2c912",
   "metadata": {},
   "source": [
    "#### 39. Create a vector of size 10 with values ranging from 0 to 1, both excluded"
   ]
  },
  {
   "cell_type": "code",
   "execution_count": null,
   "id": "6aaa27d3",
   "metadata": {},
   "outputs": [],
   "source": []
  },
  {
   "cell_type": "markdown",
   "id": "a36d6ee4",
   "metadata": {},
   "source": [
    "#### 40. Create a random vector of size 10 and sort it"
   ]
  },
  {
   "cell_type": "code",
   "execution_count": null,
   "id": "e589d216",
   "metadata": {},
   "outputs": [],
   "source": []
  },
  {
   "cell_type": "markdown",
   "id": "0fb4ad68",
   "metadata": {},
   "source": [
    "#### 41. How to sum a small array faster than np.sum?"
   ]
  },
  {
   "cell_type": "code",
   "execution_count": null,
   "id": "a1ba05a0",
   "metadata": {},
   "outputs": [],
   "source": []
  },
  {
   "cell_type": "markdown",
   "id": "024ac365",
   "metadata": {},
   "source": [
    "#### 42. Consider two random array A and B, check if they are equal"
   ]
  },
  {
   "cell_type": "code",
   "execution_count": null,
   "id": "7db3846d",
   "metadata": {},
   "outputs": [],
   "source": []
  },
  {
   "cell_type": "markdown",
   "id": "c68d2401",
   "metadata": {},
   "source": [
    "#### 43. Make an array immutable (read-only) "
   ]
  },
  {
   "cell_type": "code",
   "execution_count": null,
   "id": "7828539d",
   "metadata": {},
   "outputs": [],
   "source": []
  },
  {
   "cell_type": "markdown",
   "id": "55df6280",
   "metadata": {},
   "source": [
    "#### 44. Consider a random 10x2 matrix representing cartesian coordinates, convert them to polar coordinates"
   ]
  },
  {
   "cell_type": "code",
   "execution_count": null,
   "id": "f1c86ea0",
   "metadata": {},
   "outputs": [],
   "source": []
  },
  {
   "cell_type": "markdown",
   "id": "2f60f1ec",
   "metadata": {},
   "source": [
    "#### 45. Create random vector of size 10 and replace the maximum value by 0"
   ]
  },
  {
   "cell_type": "code",
   "execution_count": null,
   "id": "d9f48f1c",
   "metadata": {},
   "outputs": [],
   "source": []
  },
  {
   "cell_type": "markdown",
   "id": "084e8ad4",
   "metadata": {},
   "source": [
    "#### 46. Create a structured array with `x` and `y` coordinates covering the [0,1]x[0,1] area"
   ]
  },
  {
   "cell_type": "code",
   "execution_count": null,
   "id": "58b47c13",
   "metadata": {},
   "outputs": [],
   "source": []
  },
  {
   "cell_type": "markdown",
   "id": "d7b9bc42",
   "metadata": {},
   "source": [
    "#### 47. Given two arrays, X and Y, construct the Cauchy matrix C (Cij =1/(xi - yj))"
   ]
  },
  {
   "cell_type": "code",
   "execution_count": null,
   "id": "a24824fb",
   "metadata": {},
   "outputs": [],
   "source": []
  },
  {
   "cell_type": "markdown",
   "id": "65ebc11b",
   "metadata": {},
   "source": [
    "#### 48. Print the minimum and maximum representable value for each numpy scalar type"
   ]
  },
  {
   "cell_type": "code",
   "execution_count": null,
   "id": "e45d38fb",
   "metadata": {},
   "outputs": [],
   "source": []
  },
  {
   "cell_type": "markdown",
   "id": "9b317a98",
   "metadata": {},
   "source": [
    "#### 49. How to print all the values of an array? "
   ]
  },
  {
   "cell_type": "code",
   "execution_count": null,
   "id": "309cdeb9",
   "metadata": {},
   "outputs": [],
   "source": []
  },
  {
   "cell_type": "markdown",
   "id": "b580f9d0",
   "metadata": {},
   "source": [
    "#### 50. How to find the closest value (to a given scalar) in a vector?"
   ]
  },
  {
   "cell_type": "code",
   "execution_count": null,
   "id": "ebfb6714",
   "metadata": {},
   "outputs": [],
   "source": []
  },
  {
   "cell_type": "markdown",
   "id": "602e6252",
   "metadata": {},
   "source": [
    "#### 51. Create a structured array representing a position (x,y) and a color (r,g,b)"
   ]
  },
  {
   "cell_type": "code",
   "execution_count": null,
   "id": "cf002b3a",
   "metadata": {},
   "outputs": [],
   "source": []
  },
  {
   "cell_type": "markdown",
   "id": "78bcd92f",
   "metadata": {},
   "source": [
    "#### 52. Consider a random vector with shape (100,2) representing coordinates, find point by point distances"
   ]
  },
  {
   "cell_type": "code",
   "execution_count": null,
   "id": "fea7f9a6",
   "metadata": {},
   "outputs": [],
   "source": []
  },
  {
   "cell_type": "markdown",
   "id": "343c5a85",
   "metadata": {},
   "source": [
    "#### 53. How to convert a float (32 bits) array into an integer (32 bits) in place?"
   ]
  },
  {
   "cell_type": "code",
   "execution_count": null,
   "id": "fc1b687b",
   "metadata": {},
   "outputs": [],
   "source": []
  },
  {
   "cell_type": "markdown",
   "id": "a69e1ace",
   "metadata": {},
   "source": [
    "#### 54. How to read the following file?\n",
    "```\n",
    "1, 2, 3, 4, 5\n",
    "6,  ,  , 7, 8\n",
    " ,  , 9,10,11\n",
    "```"
   ]
  },
  {
   "cell_type": "code",
   "execution_count": null,
   "id": "1c7957d4",
   "metadata": {},
   "outputs": [],
   "source": []
  },
  {
   "cell_type": "markdown",
   "id": "c23bd80d",
   "metadata": {},
   "source": [
    "#### 55. What is the equivalent of enumerate for numpy arrays?"
   ]
  },
  {
   "cell_type": "code",
   "execution_count": null,
   "id": "d95d9578",
   "metadata": {},
   "outputs": [],
   "source": []
  },
  {
   "cell_type": "markdown",
   "id": "2153a5ec",
   "metadata": {},
   "source": [
    "#### 56. Generate a generic 2D Gaussian-like array"
   ]
  },
  {
   "cell_type": "code",
   "execution_count": null,
   "id": "61122d1e",
   "metadata": {},
   "outputs": [],
   "source": []
  },
  {
   "cell_type": "markdown",
   "id": "2e76d589",
   "metadata": {},
   "source": [
    "#### 57. How to randomly place p elements in a 2D array?"
   ]
  },
  {
   "cell_type": "code",
   "execution_count": null,
   "id": "0c2e4fcc",
   "metadata": {},
   "outputs": [],
   "source": []
  },
  {
   "cell_type": "markdown",
   "id": "8b3933eb",
   "metadata": {},
   "source": [
    "#### 58. Subtract the mean of each row of a matrix"
   ]
  },
  {
   "cell_type": "code",
   "execution_count": null,
   "id": "a306c9ef",
   "metadata": {},
   "outputs": [],
   "source": []
  },
  {
   "cell_type": "markdown",
   "id": "ea8807c0",
   "metadata": {},
   "source": [
    "#### 59. How to sort an array by the nth column?"
   ]
  },
  {
   "cell_type": "code",
   "execution_count": null,
   "id": "cc89a699",
   "metadata": {},
   "outputs": [],
   "source": []
  },
  {
   "cell_type": "markdown",
   "id": "00fa00a1",
   "metadata": {},
   "source": [
    "#### 60. How to tell if a given 2D array has null columns?"
   ]
  },
  {
   "cell_type": "code",
   "execution_count": null,
   "id": "3436e165",
   "metadata": {},
   "outputs": [],
   "source": []
  },
  {
   "cell_type": "markdown",
   "id": "5a65c7a2",
   "metadata": {},
   "source": [
    "#### 61. Find the nearest value from a given value in an array"
   ]
  },
  {
   "cell_type": "code",
   "execution_count": null,
   "id": "73f149d6",
   "metadata": {},
   "outputs": [],
   "source": []
  },
  {
   "cell_type": "markdown",
   "id": "dd83e8af",
   "metadata": {},
   "source": [
    "#### 62. Considering two arrays with shape (1,3) and (3,1), how to compute their sum using an iterator?"
   ]
  },
  {
   "cell_type": "code",
   "execution_count": null,
   "id": "29a709a1",
   "metadata": {},
   "outputs": [],
   "source": []
  },
  {
   "cell_type": "markdown",
   "id": "6c042efa",
   "metadata": {},
   "source": [
    "#### 63. Create an array class that has a name attribute"
   ]
  },
  {
   "cell_type": "code",
   "execution_count": null,
   "id": "45b3d2e0",
   "metadata": {},
   "outputs": [],
   "source": []
  },
  {
   "cell_type": "markdown",
   "id": "0a075c3d",
   "metadata": {},
   "source": [
    "#### 64. Consider a given vector, how to add 1 to each element indexed by a second vector (be careful with repeated indices)?"
   ]
  },
  {
   "cell_type": "code",
   "execution_count": null,
   "id": "36c50470",
   "metadata": {},
   "outputs": [],
   "source": []
  },
  {
   "cell_type": "markdown",
   "id": "0fb2f0c5",
   "metadata": {},
   "source": [
    "#### 65. How to accumulate elements of a vector (X) to an array (F) based on an index list (I)?"
   ]
  },
  {
   "cell_type": "code",
   "execution_count": null,
   "id": "58aa5f82",
   "metadata": {},
   "outputs": [],
   "source": []
  },
  {
   "cell_type": "markdown",
   "id": "d89dc506",
   "metadata": {},
   "source": [
    "#### 66. Considering a (w,h,3) image of (dtype=ubyte), compute the number of unique colors"
   ]
  },
  {
   "cell_type": "code",
   "execution_count": null,
   "id": "8fb43a49",
   "metadata": {},
   "outputs": [],
   "source": []
  },
  {
   "cell_type": "markdown",
   "id": "535a5d81",
   "metadata": {},
   "source": [
    "#### 67. Considering a four dimensions array, how to get sum over the last two axis at once?"
   ]
  },
  {
   "cell_type": "code",
   "execution_count": null,
   "id": "f954ab9d",
   "metadata": {},
   "outputs": [],
   "source": []
  },
  {
   "cell_type": "markdown",
   "id": "eee66d3c",
   "metadata": {},
   "source": [
    "#### 68. Considering a one-dimensional vector D, how to compute means of subsets of D using a vector S of same size describing subset  indices?"
   ]
  },
  {
   "cell_type": "code",
   "execution_count": null,
   "id": "8929773a",
   "metadata": {},
   "outputs": [],
   "source": []
  },
  {
   "cell_type": "markdown",
   "id": "f90d4c40",
   "metadata": {},
   "source": [
    "#### 69. How to get the diagonal of a dot product?"
   ]
  },
  {
   "cell_type": "code",
   "execution_count": null,
   "id": "b47d392d",
   "metadata": {},
   "outputs": [],
   "source": []
  },
  {
   "cell_type": "markdown",
   "id": "a8a97e7d",
   "metadata": {},
   "source": [
    "#### 70. Consider the vector [1, 2, 3, 4, 5], how to build a new vector with 3 consecutive zeros interleaved between each value?"
   ]
  },
  {
   "cell_type": "code",
   "execution_count": null,
   "id": "ee6c6c37",
   "metadata": {},
   "outputs": [],
   "source": []
  },
  {
   "cell_type": "markdown",
   "id": "d6a30d60",
   "metadata": {},
   "source": [
    "#### 71. Consider an array of dimension (5,5,3), how to mulitply it by an array with dimensions (5,5)?"
   ]
  },
  {
   "cell_type": "code",
   "execution_count": null,
   "id": "e9703f2e",
   "metadata": {},
   "outputs": [],
   "source": []
  },
  {
   "cell_type": "markdown",
   "id": "bac359a9",
   "metadata": {},
   "source": [
    "#### 72. How to swap two rows of an array?"
   ]
  },
  {
   "cell_type": "code",
   "execution_count": null,
   "id": "f1b432b1",
   "metadata": {},
   "outputs": [],
   "source": []
  },
  {
   "cell_type": "markdown",
   "id": "620c9f83",
   "metadata": {},
   "source": [
    "#### 73. Consider a set of 10 triplets describing 10 triangles (with shared vertices), find the set of unique line segments composing all the  triangles"
   ]
  },
  {
   "cell_type": "code",
   "execution_count": null,
   "id": "4e595ffc",
   "metadata": {},
   "outputs": [],
   "source": []
  },
  {
   "cell_type": "markdown",
   "id": "a76c55a2",
   "metadata": {},
   "source": [
    "#### 74. Given a sorted array C that corresponds to a bincount, how to produce an array A such that np.bincount(A) == C?"
   ]
  },
  {
   "cell_type": "code",
   "execution_count": null,
   "id": "2d2ae65a",
   "metadata": {},
   "outputs": [],
   "source": []
  },
  {
   "cell_type": "markdown",
   "id": "d550c8e2",
   "metadata": {},
   "source": [
    "#### 75. How to compute averages using a sliding window over an array?"
   ]
  },
  {
   "cell_type": "code",
   "execution_count": null,
   "id": "841c457c",
   "metadata": {},
   "outputs": [],
   "source": []
  },
  {
   "cell_type": "markdown",
   "id": "6b170b00",
   "metadata": {},
   "source": [
    "#### 76. Consider a one-dimensional array Z, build a two-dimensional array whose first row is (Z[0],Z[1],Z[2]) and each subsequent row is  shifted by 1 (last row should be (Z[-3],Z[-2],Z[-1])"
   ]
  },
  {
   "cell_type": "code",
   "execution_count": null,
   "id": "d9a0cf4e",
   "metadata": {},
   "outputs": [],
   "source": []
  },
  {
   "cell_type": "markdown",
   "id": "e94a5c1d",
   "metadata": {},
   "source": [
    "#### 77. How to negate a boolean, or to change the sign of a float inplace?"
   ]
  },
  {
   "cell_type": "code",
   "execution_count": null,
   "id": "c0f9504f",
   "metadata": {},
   "outputs": [],
   "source": []
  },
  {
   "cell_type": "markdown",
   "id": "4eb8b5c1",
   "metadata": {},
   "source": [
    "#### 78. Consider 2 sets of points P0,P1 describing lines (2d) and a point p, how to compute distance from p to each line i (P0[i],P1[i])?"
   ]
  },
  {
   "cell_type": "code",
   "execution_count": null,
   "id": "487f47ec",
   "metadata": {},
   "outputs": [],
   "source": []
  },
  {
   "cell_type": "markdown",
   "id": "3df99948",
   "metadata": {},
   "source": [
    "#### 79. Consider 2 sets of points P0,P1 describing lines (2d) and a set of points P, how to compute distance from each point j (P[j]) to each line i (P0[i],P1[i])?"
   ]
  },
  {
   "cell_type": "code",
   "execution_count": null,
   "id": "dc2df37b",
   "metadata": {},
   "outputs": [],
   "source": []
  },
  {
   "cell_type": "markdown",
   "id": "11e972c2",
   "metadata": {},
   "source": [
    "#### 80. Consider an arbitrary array, write a function that extract a subpart with a fixed shape and centered on a given element (pad with a `fill` value when necessary)"
   ]
  },
  {
   "cell_type": "code",
   "execution_count": null,
   "id": "0291247f",
   "metadata": {},
   "outputs": [],
   "source": []
  },
  {
   "cell_type": "markdown",
   "id": "93cfeab3",
   "metadata": {},
   "source": [
    "#### 81. Consider an array Z = [1,2,3,4,5,6,7,8,9,10,11,12,13,14], how to generate an array R = [[1,2,3,4], [2,3,4,5], [3,4,5,6], ..., [11,12,13,14]]?"
   ]
  },
  {
   "cell_type": "code",
   "execution_count": null,
   "id": "360de791",
   "metadata": {},
   "outputs": [],
   "source": []
  },
  {
   "cell_type": "markdown",
   "id": "4c15ceff",
   "metadata": {},
   "source": [
    "#### 82. Compute a matrix rank (★★★)"
   ]
  },
  {
   "cell_type": "code",
   "execution_count": null,
   "id": "9a4272d2",
   "metadata": {},
   "outputs": [],
   "source": []
  },
  {
   "cell_type": "markdown",
   "id": "1171cb84",
   "metadata": {},
   "source": [
    "#### 83. How to find the most frequent value in an array?"
   ]
  },
  {
   "cell_type": "code",
   "execution_count": null,
   "id": "33e951c8",
   "metadata": {},
   "outputs": [],
   "source": []
  },
  {
   "cell_type": "markdown",
   "id": "04f472aa",
   "metadata": {},
   "source": [
    "#### 84. Extract all the contiguous 3x3 blocks from a random 10x10 matrix"
   ]
  },
  {
   "cell_type": "code",
   "execution_count": null,
   "id": "7aade14a",
   "metadata": {},
   "outputs": [],
   "source": []
  },
  {
   "cell_type": "markdown",
   "id": "52836346",
   "metadata": {},
   "source": [
    "#### 85. Create a 2D array subclass such that Z[i,j] == Z[j,i]"
   ]
  },
  {
   "cell_type": "code",
   "execution_count": null,
   "id": "4df70318",
   "metadata": {},
   "outputs": [],
   "source": []
  },
  {
   "cell_type": "markdown",
   "id": "78c43ee5",
   "metadata": {},
   "source": [
    "#### 86. Consider a set of p matrices with shape (n,n) and a set of p vectors with shape (n,1). How to compute the sum of of the p matrix products at once? (result has shape (n,1))"
   ]
  },
  {
   "cell_type": "code",
   "execution_count": null,
   "id": "32fd2c3b",
   "metadata": {},
   "outputs": [],
   "source": []
  },
  {
   "cell_type": "markdown",
   "id": "158f9945",
   "metadata": {},
   "source": [
    "#### 87. Consider a 16x16 array, how to get the block-sum (block size is 4x4)? "
   ]
  },
  {
   "cell_type": "code",
   "execution_count": null,
   "id": "5a9b808f",
   "metadata": {},
   "outputs": [],
   "source": []
  },
  {
   "cell_type": "markdown",
   "id": "2e0ad860",
   "metadata": {},
   "source": [
    "#### 88. How to implement the Game of Life using numpy arrays?"
   ]
  },
  {
   "cell_type": "code",
   "execution_count": null,
   "id": "574acff5",
   "metadata": {},
   "outputs": [],
   "source": []
  },
  {
   "cell_type": "markdown",
   "id": "69a892fa",
   "metadata": {},
   "source": [
    "#### 89. How to get the n largest values of an array"
   ]
  },
  {
   "cell_type": "code",
   "execution_count": null,
   "id": "21b2bd48",
   "metadata": {},
   "outputs": [],
   "source": []
  },
  {
   "cell_type": "markdown",
   "id": "b55ccacc",
   "metadata": {},
   "source": [
    "#### 90. Given an arbitrary number of vectors, build the cartesian product (every combinations of every item) "
   ]
  },
  {
   "cell_type": "code",
   "execution_count": null,
   "id": "4b645da4",
   "metadata": {},
   "outputs": [],
   "source": []
  },
  {
   "cell_type": "markdown",
   "id": "89187a23",
   "metadata": {},
   "source": [
    "#### 91. How to create a record array from a regular array?"
   ]
  },
  {
   "cell_type": "code",
   "execution_count": null,
   "id": "da94c71a",
   "metadata": {},
   "outputs": [],
   "source": []
  },
  {
   "cell_type": "markdown",
   "id": "aa70d4ca",
   "metadata": {},
   "source": [
    "#### 92. Consider a large vector Z, compute Z to the power of 3 using 3 different methods"
   ]
  },
  {
   "cell_type": "code",
   "execution_count": null,
   "id": "7cff1bf5",
   "metadata": {},
   "outputs": [],
   "source": []
  },
  {
   "cell_type": "markdown",
   "id": "5f79dd00",
   "metadata": {},
   "source": [
    "#### 93. Consider two arrays A and B of shape (8,3) and (2,2). How to find rows of A that contain elements of each row of B regardless of the order of the elements in B?"
   ]
  },
  {
   "cell_type": "code",
   "execution_count": null,
   "id": "20c105b2",
   "metadata": {},
   "outputs": [],
   "source": []
  },
  {
   "cell_type": "markdown",
   "id": "a80570cd",
   "metadata": {},
   "source": [
    "#### 94. Considering a 10x3 matrix, extract rows with unequal values (e.g. [2,2,3])"
   ]
  },
  {
   "cell_type": "code",
   "execution_count": null,
   "id": "84db8de1",
   "metadata": {},
   "outputs": [],
   "source": []
  },
  {
   "cell_type": "markdown",
   "id": "ba154f43",
   "metadata": {},
   "source": [
    "#### 95. Convert a vector of ints into a matrix binary representation"
   ]
  },
  {
   "cell_type": "code",
   "execution_count": null,
   "id": "cfa96e1b",
   "metadata": {},
   "outputs": [],
   "source": []
  },
  {
   "cell_type": "markdown",
   "id": "420e2343",
   "metadata": {},
   "source": [
    "#### 96. Given a two dimensional array, how to extract unique rows?"
   ]
  },
  {
   "cell_type": "code",
   "execution_count": null,
   "id": "4680dfd0",
   "metadata": {},
   "outputs": [],
   "source": []
  },
  {
   "cell_type": "markdown",
   "id": "89fef2f3",
   "metadata": {},
   "source": [
    "#### 97. Considering 2 vectors A & B, write the einsum equivalent of inner, outer, sum, and mul function"
   ]
  },
  {
   "cell_type": "code",
   "execution_count": null,
   "id": "bb9c14b2",
   "metadata": {},
   "outputs": [],
   "source": []
  },
  {
   "cell_type": "markdown",
   "id": "7ad5cc5f",
   "metadata": {},
   "source": [
    "#### 98. Considering a path described by two vectors (X,Y), how to sample it using equidistant samples?"
   ]
  },
  {
   "cell_type": "code",
   "execution_count": null,
   "id": "0899d1d5",
   "metadata": {},
   "outputs": [],
   "source": []
  },
  {
   "cell_type": "markdown",
   "id": "2b69272e",
   "metadata": {},
   "source": [
    "#### 99. Given an integer n and a 2D array X, select from X the rows which can be interpreted as draws from a multinomial distribution with n degrees, i.e., the rows which only contain integers and which sum to n."
   ]
  },
  {
   "cell_type": "code",
   "execution_count": null,
   "id": "55c8b034",
   "metadata": {},
   "outputs": [],
   "source": []
  },
  {
   "cell_type": "markdown",
   "id": "59ab5516",
   "metadata": {},
   "source": [
    "#### 100. Compute bootstrapped 95% confidence intervals for the mean of a 1D array X (i.e., resample the elements of an array with replacement N times, compute the mean of each sample, and then compute percentiles over the means)."
   ]
  },
  {
   "cell_type": "code",
   "execution_count": null,
   "id": "450877d8",
   "metadata": {},
   "outputs": [],
   "source": []
  }
 ],
 "metadata": {
  "kernelspec": {
   "display_name": "Python 3 (ipykernel)",
   "language": "python",
   "name": "python3"
  },
  "language_info": {
   "codemirror_mode": {
    "name": "ipython",
    "version": 3
   },
   "file_extension": ".py",
   "mimetype": "text/x-python",
   "name": "python",
   "nbconvert_exporter": "python",
   "pygments_lexer": "ipython3",
   "version": "3.11.7"
  }
 },
 "nbformat": 4,
 "nbformat_minor": 5
}
